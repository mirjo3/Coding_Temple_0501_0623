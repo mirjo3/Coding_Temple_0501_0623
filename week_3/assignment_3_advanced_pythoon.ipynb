{
  "cells": [
    {
      "attachments": {},
      "cell_type": "markdown",
      "metadata": {
        "id": "6CWTVFmn_Mve"
      },
      "source": [
        "# Map, Filter, Reduce, Lambda & Recursion"
      ]
    },
    {
      "attachments": {},
      "cell_type": "markdown",
      "metadata": {
        "id": "sBZJzyxj_Mvi"
      },
      "source": [
        "## Tasks Today:\n",
        "\n",
        "1) <b>Lambda Functions</b> <br>\n",
        " &nbsp;&nbsp;&nbsp;&nbsp; a) Syntax <br>\n",
        " &nbsp;&nbsp;&nbsp;&nbsp; b) Saving to a Variable <br>\n",
        " &nbsp;&nbsp;&nbsp;&nbsp; c) Multiple Inputs <br>\n",
        " &nbsp;&nbsp;&nbsp;&nbsp; d) Passing a Lambda into a Function <br>\n",
        " &nbsp;&nbsp;&nbsp;&nbsp; e) Returning a Lambda from a Function <br>\n",
        " &nbsp;&nbsp;&nbsp;&nbsp; f) In-Class Exercise #1 <br>\n",
        "2) <b>Map</b> <br>\n",
        " &nbsp;&nbsp;&nbsp;&nbsp; a) Syntax <br>\n",
        " &nbsp;&nbsp;&nbsp;&nbsp; b) Using Lambda's with Map <br>\n",
        " &nbsp;&nbsp;&nbsp;&nbsp; c) In-Class Exercise #2 <br>\n",
        "3) <b>Filter</b> <br>\n",
        " &nbsp;&nbsp;&nbsp;&nbsp; a) Syntax <br>\n",
        " &nbsp;&nbsp;&nbsp;&nbsp; b) Using Lambda's with Filter <br>\n",
        " &nbsp;&nbsp;&nbsp;&nbsp; c) In-Class Exercise #3 <br>\n",
        "4) <b>Recursion</b> <br>\n",
        " &nbsp;&nbsp;&nbsp;&nbsp; a) Implementing a Base <br>\n",
        " &nbsp;&nbsp;&nbsp;&nbsp; b) Writing a Factorial Function <br>\n",
        " &nbsp;&nbsp;&nbsp;&nbsp; c) In-Class Exercise #4 <br>\n",
        "5) <b>Generators & Iterators</b> <br>\n",
        " &nbsp;&nbsp;&nbsp;&nbsp; a) Yield Keyword <br>\n",
        " &nbsp;&nbsp;&nbsp;&nbsp; c) In-Class Exercise #5 <br>\n",
        "6) <b>Exercises</b> <br>\n",
        " &nbsp;&nbsp;&nbsp;&nbsp; a) Exercise #1 - Filtering Empty Strings <br>\n",
        " &nbsp;&nbsp;&nbsp;&nbsp; b) Exercise #2 - Sorting with Last Name <br>\n",
        " &nbsp;&nbsp;&nbsp;&nbsp; c) Exercise #3 - Conversion to Farhenheit <br>\n",
        " &nbsp;&nbsp;&nbsp;&nbsp; d) Exercise #4 - Fibonacci Sequence <br>"
      ]
    },
    {
      "attachments": {},
      "cell_type": "markdown",
      "metadata": {
        "id": "zv3SnIM0_Mvj"
      },
      "source": [
        "## Lambda Functions <br>\n",
        "<p>Lambda functions... or \"Anonymous Functions\" are referring to inline functions with no name. The keyword lambda denotes the no name function, and executes within a single line. Without saving it to a variable; however, it is not able to be used, unless passed in either as a paramater or within list comprehension.<br>Written as \"(keyword lambda) (one or more inputs) (colon) (function to be executed)\"</p>"
      ]
    },
    {
      "attachments": {},
      "cell_type": "markdown",
      "metadata": {
        "id": "RU6TAdoo_Mvk"
      },
      "source": [
        "#### Syntax"
      ]
    },
    {
      "cell_type": "code",
      "execution_count": 11,
      "metadata": {
        "id": "lepRXkqx_Mvk"
      },
      "outputs": [
        {
          "name": "stdout",
          "output_type": "stream",
          "text": [
            "8\n",
            "6\n"
          ]
        }
      ],
      "source": [
        "def add_two(x):\n",
        "    return x*2\n",
        "\n",
        "#then we can test it:\n",
        "print(add_two(4))\n",
        "#This is great for continious, but to only do it once, we used lambda\n",
        "a_var = 4\n",
        "print((lambda x: x+2)(a_var))"
      ]
    },
    {
      "attachments": {},
      "cell_type": "markdown",
      "metadata": {},
      "source": [
        "In terms of time and space complexity, they are the same in performance as a normal function.\n",
        "\n",
        "Lambda should be used when we want to do a single function"
      ]
    },
    {
      "attachments": {},
      "cell_type": "markdown",
      "metadata": {
        "id": "z3yd8V5q_Mvl"
      },
      "source": [
        "#### Saving to a Variable"
      ]
    },
    {
      "cell_type": "code",
      "execution_count": null,
      "metadata": {
        "id": "PH1dgTHI_Mvl"
      },
      "outputs": [],
      "source": [
        "# we can save a lambda function to a variable for reusability\n",
        "# do not recommend, because a function can do the same thing\n",
        "f_test = lambda x: x+2\n",
        "f_test(4)"
      ]
    },
    {
      "cell_type": "code",
      "execution_count": null,
      "metadata": {},
      "outputs": [],
      "source": [
        "f_fest(78)"
      ]
    },
    {
      "attachments": {},
      "cell_type": "markdown",
      "metadata": {
        "id": "LEnhQ206_Mvl"
      },
      "source": [
        "#### Multiple Inputs"
      ]
    },
    {
      "cell_type": "code",
      "execution_count": 1,
      "metadata": {
        "id": "yhz4e8oc_Mvm"
      },
      "outputs": [
        {
          "name": "stdout",
          "output_type": "stream",
          "text": [
            "120\n",
            "120\n"
          ]
        }
      ],
      "source": [
        "# No variable\n",
        "print((lambda x,y,z,: x  * y * z)(3,5,8))\n",
        "\n",
        "# if we wanted to save the lambda function as a variable, we could as well with multiple inputs:\n",
        "x_test = lambda x,y,z,: x * y * z\n",
        "print(x_test(3,5,8))"
      ]
    },
    {
      "attachments": {},
      "cell_type": "markdown",
      "metadata": {
        "id": "0rAdEh_O_Mvm"
      },
      "source": [
        "#### Passing a Lambda into a Function"
      ]
    },
    {
      "cell_type": "code",
      "execution_count": null,
      "metadata": {
        "id": "YMH292Cx_Mvm"
      },
      "outputs": [],
      "source": [
        "def multiply(f, num):\n",
        "    \"\"\"\n",
        "    f expects to see a function(lambda_function)\n",
        "    num expects a single number\n",
        "    \"\"\"\n",
        "    return f(num)\n",
        "multiply(lambda x: x*x, 4)\n",
        "\n",
        "# not only can we pass lambda functions into another function\n",
        "def squared_nums(num):\n",
        "    return num ** 2\n",
        "multiply(squared_nums, 4)\n"
      ]
    },
    {
      "attachments": {},
      "cell_type": "markdown",
      "metadata": {
        "id": "ZLGVscCG_Mvn"
      },
      "source": [
        "#### Returning a Lambda from a Function"
      ]
    },
    {
      "cell_type": "code",
      "execution_count": 7,
      "metadata": {
        "id": "QKwjPC7n_Mvn"
      },
      "outputs": [
        {
          "name": "stdout",
          "output_type": "stream",
          "text": [
            "8\n",
            "<function return_lamb.<locals>.<lambda> at 0x000001D829905000>\n",
            "19\n"
          ]
        }
      ],
      "source": [
        "def multiply_test(num):\n",
        "    return num * 4\n",
        "\n",
        "# Let's try function inside another function\n",
        "def return_func():\n",
        "    test = 4\n",
        "    def multiply(num):\n",
        "        return num*2\n",
        "    return multiply\n",
        "\n",
        "f_return = return_func()\n",
        "print(f_return(4))\n",
        "\n",
        "# what if i wanted to return a lambda function from a regular function\n",
        "def return_lamb(b,c):\n",
        "    return lambda x,a: x+a+b+c\n",
        "\n",
        "r_lamb = return_lamb(4,5) # this is the b,c\n",
        "print(r_lamb)\n",
        "print(r_lamb(5,5)) # this is mirroring the x,a, this combine bc(x,a)"
      ]
    },
    {
      "attachments": {},
      "cell_type": "markdown",
      "metadata": {
        "id": "WGTdhTpo_Mvn"
      },
      "source": [
        "#### If Statements within Lambdas"
      ]
    },
    {
      "cell_type": "code",
      "execution_count": 9,
      "metadata": {
        "id": "TYYHh_mD_Mvn"
      },
      "outputs": [
        {
          "name": "stdout",
          "output_type": "stream",
          "text": [
            "10\n",
            "40\n"
          ]
        }
      ],
      "source": [
        "# lambdas are set up to be able to take in conditional statements\n",
        "# lambda x: True if condition happens, else False\n",
        "# lambda x: do something if conditional happens else do something else\n",
        "f_conditional = lambda num: num * 2 if num > 10 else num + 2\n",
        "print(f_conditional(8))\n",
        "print(f_conditional(20))"
      ]
    },
    {
      "cell_type": "code",
      "execution_count": 10,
      "metadata": {},
      "outputs": [
        {
          "data": {
            "text/plain": [
              "[3, 4, 5, 6, 7, 8, 9, 10, 11, 12, 22, 24, 26]"
            ]
          },
          "execution_count": 10,
          "metadata": {},
          "output_type": "execute_result"
        }
      ],
      "source": [
        "lst = [1,2,3,4,5,6,7,8,9,10,11,12,13]\n",
        "[f_conditional(num) for num in lst]"
      ]
    },
    {
      "attachments": {},
      "cell_type": "markdown",
      "metadata": {
        "id": "Va27c3uJ_Mvn"
      },
      "source": [
        "#### In-Class Exercise #1 <br>\n",
        "<p>Write an anonymous function that cubes the arguments passed in and assign the anonymous function to a variable 'f'.</p>"
      ]
    },
    {
      "cell_type": "code",
      "execution_count": 15,
      "metadata": {
        "id": "Daf-1bIP_Mvo"
      },
      "outputs": [
        {
          "name": "stdout",
          "output_type": "stream",
          "text": [
            "8\n"
          ]
        }
      ],
      "source": [
        "f = lambda x: x ** 3\n",
        "print(f(2))"
      ]
    },
    {
      "attachments": {},
      "cell_type": "markdown",
      "metadata": {
        "id": "yJJUgxKC_Mvo"
      },
      "source": [
        "## Map <br>\n",
        "<p>The map function allows you to iterate over an entire list while running a function on each item of the list. This is why the map function works well with lambda's, because it simplifies things and you write less lines of code.<br>The syntax for a map function is \"map(function to be used, list to be used)\"<br>However, you must be careful, as the map function returns a map object, not a list. To turn it into a list we use the list() type conversion.</p>"
      ]
    },
    {
      "attachments": {},
      "cell_type": "markdown",
      "metadata": {
        "id": "Xt_Jq1tZ_Mvo"
      },
      "source": [
        "#### Syntax"
      ]
    },
    {
      "cell_type": "code",
      "execution_count": 17,
      "metadata": {
        "id": "TGgEI05r_Mvo"
      },
      "outputs": [
        {
          "name": "stdout",
          "output_type": "stream",
          "text": [
            "[16, 121, 400, 400, 9, 225, 400, 121]\n"
          ]
        }
      ],
      "source": [
        "numbers = [4,11,20,20,3,15,20,11]\n",
        "\n",
        "# normally, in order ot use a function with this, we would iterate through this list\n",
        "def squared_normal(val):\n",
        "    return val **2\n",
        "lst = []\n",
        "for num in numbers:\n",
        "    lst.append(squared_normal(num))\n",
        "print(lst)\n"
      ]
    },
    {
      "cell_type": "code",
      "execution_count": 2,
      "metadata": {},
      "outputs": [
        {
          "name": "stdout",
          "output_type": "stream",
          "text": [
            "CPU times: total: 0 ns\n",
            "Wall time: 0 ns\n",
            "(16, 9)\n",
            "(11, 15)\n",
            "(20, 20)\n",
            "(20, 11)\n",
            "(9, 16)\n",
            "(15, 11)\n",
            "(20, 20)\n",
            "(11, 20)\n",
            "[(16, 9), (11, 15), (20, 20), (20, 11), (9, 16), (15, 11), (20, 20), (11, 20)]\n"
          ]
        },
        {
          "ename": "NameError",
          "evalue": "name 'squared_normal' is not defined",
          "output_type": "error",
          "traceback": [
            "\u001b[1;31m---------------------------------------------------------------------------\u001b[0m",
            "\u001b[1;31mNameError\u001b[0m                                 Traceback (most recent call last)",
            "Cell \u001b[1;32mIn[2], line 30\u001b[0m\n\u001b[0;32m     26\u001b[0m \u001b[39mprint\u001b[39m(squared_numbers_mapped)\n\u001b[0;32m     28\u001b[0m \u001b[39m# when we use map against a single iterable object, we will return a list of values\u001b[39;00m\n\u001b[0;32m     29\u001b[0m \u001b[39m#where each value corresponds to a value in the input object\u001b[39;00m\n\u001b[1;32m---> 30\u001b[0m another_squared_nums_mapped \u001b[39m=\u001b[39m \u001b[39mlist\u001b[39m(\u001b[39mmap\u001b[39m(squared_normal, numbers))\n\u001b[0;32m     31\u001b[0m \u001b[39mprint\u001b[39m(another_squared_nums_mapped)\n",
            "\u001b[1;31mNameError\u001b[0m: name 'squared_normal' is not defined"
          ]
        }
      ],
      "source": [
        "#\n",
        "\"\"\"\n",
        "map(function, iterable)\n",
        "An iterable is something we can loop over; such as a list, dict, tuple, sat, or a string.\n",
        "Normally, you would use a map with a predefined function, but we can use with a lambda\n",
        "\"\"\"\n",
        "%time\n",
        "def squared_map(num, num2):\n",
        "    if num < 10 and num2 < 10:\n",
        "        return num**2, num2 **2\n",
        "    else:\n",
        "        return num, num2\n",
        "\n",
        "numbers = [4,11,20,20,3,15,20,11]\n",
        "more_nums = [3,15,20,11,4,11,20,20]\n",
        "\n",
        "# squared(numbers, more_nums) # would not work because num and num2 are expecting int not lists\n",
        "# You would need to zip() function which brings all integers together\n",
        "# \n",
        "for val1, val2, in zip(numbers, more_nums):\n",
        "    print(squared_map(val1, val2))\n",
        "'''\n",
        "when we use map against two or more iterable objects, we get returned a \n",
        "list of tuples. each value in the tuple represents a value in the \n",
        "corresponding input list\n",
        "'''\n",
        "squared_numbers_mapped = list(map(squared_map, numbers, more_nums))\n",
        "print(squared_numbers_mapped)\n",
        "\n",
        "# when we use map against a single iterable object, we will return a list of values\n",
        "#where each value corresponds to a value in the input object\n",
        "another_squared_nums_mapped = list(map(squared_normal, numbers))\n",
        "print(another_squared_nums_mapped)"
      ]
    },
    {
      "attachments": {},
      "cell_type": "markdown",
      "metadata": {
        "id": "AjWn3RPM_Mvo"
      },
      "source": [
        "#### Using Lambda's with Map"
      ]
    },
    {
      "cell_type": "code",
      "execution_count": null,
      "metadata": {
        "id": "yKj7455A_Mvp"
      },
      "outputs": [],
      "source": [
        "\"\"\"\n",
        "Instead of having to build out a function that we plan to use one time\n",
        "We can use a lambda inside the map function. Allowing us to do everything\n",
        "in a single line of code\n",
        "\n",
        "Syntax for this:\n",
        "map(lambda x: do something, iterable)\n",
        "Once more, using lambda in map almost always takes place in a single line of code\n",
        "\"\"\"\n",
        "\n",
        "#remember that we need to use list function or it'll give you a hex code\n",
        "list(map(lambda x,y: (x**2, y**2) if x < 10 and y < 10 else (x,y), numbers, more_nums) )"
      ]
    },
    {
      "attachments": {},
      "cell_type": "markdown",
      "metadata": {
        "id": "gwStMhKG_Mvp"
      },
      "source": [
        "#### In-Class Exercise #2 <br>\n",
        "<p>Use the map function to double each number and minus it by one in the list by using a lambda function</p>"
      ]
    },
    {
      "cell_type": "code",
      "execution_count": 18,
      "metadata": {
        "id": "bwnXQjML_Mvp"
      },
      "outputs": [
        {
          "name": "stdout",
          "output_type": "stream",
          "text": [
            "[7, 21, 39, 39, 5, 29, 39, 21]\n",
            "[(7, 5), (21, 29), (39, 39), (39, 21), (5, 7), (29, 21), (39, 39), (21, 39)]\n"
          ]
        }
      ],
      "source": [
        "numbers = [4,11,20,20,3,15,20,11]\n",
        "more_nums = [3,15,20,11,4,11,20,20]\n",
        "\n",
        "print(list(map(lambda x: (x*2)-1, numbers)))\n",
        "print(list(map(lambda x,y: ((x*2)-1,(y*2)-1), numbers, more_nums)))"
      ]
    },
    {
      "attachments": {},
      "cell_type": "markdown",
      "metadata": {
        "id": "1yP5tS-5_Mvp"
      },
      "source": [
        "## Filter() <br>\n",
        "<p>Filter's are similar to the map function, where you're able to pass a function argument and a list argument and filter out something from the list based on the conditions passed. Similar to the map function, it returns a filter object, so you need to type convert it to a list()</p>"
      ]
    },
    {
      "attachments": {},
      "cell_type": "markdown",
      "metadata": {
        "id": "-4E29XVC_Mvp"
      },
      "source": [
        "#### Syntax"
      ]
    },
    {
      "cell_type": "code",
      "execution_count": 44,
      "metadata": {
        "id": "HUjqkTZ2_Mvp"
      },
      "outputs": [
        {
          "data": {
            "text/plain": [
              "['Andy', 'Max', 'Angela']"
            ]
          },
          "execution_count": 44,
          "metadata": {},
          "output_type": "execute_result"
        }
      ],
      "source": [
        "# syntax for this looks like\n",
        "# list(filter(function, iterables(s)))\n",
        "# similar to mask, a \n",
        "\n",
        "names = [' ', 'Andy', 'Max', ' ', 'Angela']\n",
        "\n",
        "def a_names(name):\n",
        "    # In this function we will check to see if the first letter of the name\n",
        "    # starts with A\n",
        "    if name[0].lower() == ' ':\n",
        "        return False\n",
        "    else: # If it is not an 'a'\n",
        "        return True\n",
        "# Our function returns as a boolean value\n",
        "# But since this is a list, need to wrap in a list\n",
        "list(filter(a_names, names))"
      ]
    },
    {
      "attachments": {},
      "cell_type": "markdown",
      "metadata": {
        "id": "OPzBC9Cb_Mvp"
      },
      "source": [
        "#### Using Lambda's with Filter()"
      ]
    },
    {
      "cell_type": "code",
      "execution_count": 42,
      "metadata": {
        "id": "zjxgmw9T_Mvq"
      },
      "outputs": [
        {
          "data": {
            "text/plain": [
              "['Andy', 'Angela']"
            ]
          },
          "execution_count": 42,
          "metadata": {},
          "output_type": "execute_result"
        }
      ],
      "source": [
        "# WE can also use lambdas wit ha filter function\n",
        "# this is great if you are looking to filter data with a single-use function\n",
        "# and create another function like we did above\n",
        "list(filter(lambda name: True if name[0].lower() == 'a' else False, names))"
      ]
    },
    {
      "cell_type": "code",
      "execution_count": 23,
      "metadata": {},
      "outputs": [
        {
          "name": "stdout",
          "output_type": "stream",
          "text": [
            "Bob B ob\n",
            "Andy A ndy\n",
            "Max M ax\n",
            "Evan E van\n",
            "Angela A ngela\n"
          ]
        }
      ],
      "source": [
        "for name in names:\n",
        "    print(name, name[0], name[1:])"
      ]
    },
    {
      "attachments": {},
      "cell_type": "markdown",
      "metadata": {
        "id": "Fih1P0Cy_Mvq"
      },
      "source": [
        "#### In-Class Exercise #3 <br>\n",
        "<p>Filter out all the numbers that are below the mean of the list.<br><b>Hint: Import the 'statistics' module</b></p>"
      ]
    },
    {
      "cell_type": "code",
      "execution_count": 32,
      "metadata": {
        "id": "l4ZWP74-_Mvq"
      },
      "outputs": [
        {
          "name": "stdout",
          "output_type": "stream",
          "text": [
            "13\n",
            "13.0\n",
            "[20, 20, 15, 20]\n",
            "[20, 20, 15, 20]\n",
            "[20, 20, 15, 20]\n"
          ]
        }
      ],
      "source": [
        "import statistics\n",
        "import numpy as np\n",
        "\n",
        "# using statistic modules to gather the mean\n",
        "print(statistics.mean(numbers))\n",
        "\n",
        "#using numphy method\n",
        "print(np.mean(numbers))\n",
        "\n",
        "# Numbers 1: Using vanilla python\n",
        "# Use vanilla python if possible, just because libraries can be alot\n",
        "print(list(filter(lambda x: True if x>= sum(numbers)/ len(numbers) else False, numbers)))\n",
        "\n",
        "# Number 2: Using the numpy library\n",
        "print(list(filter(lambda x: True if x >= np.mean(numbers) else False, numbers)))\n",
        "\n",
        "# Number 3: Using the statistics module\n",
        "print(list(filter(lambda x: True if x>= statistics.mean(numbers) else False, numbers)))\n"
      ]
    },
    {
      "attachments": {},
      "cell_type": "markdown",
      "metadata": {
        "id": "wh_Bw27v_Mvr"
      },
      "source": [
        "## Recursion <br>\n",
        "<p>Recursion means that a function is calling itself, so it contanstly executes until a base case is reached. It will then push the returning values back up the chain until the function is complete. A prime example of recursion is computing factorials... such that 5! (factorial) is 5*4*3*2*1 which equals 120.</p>"
      ]
    },
    {
      "attachments": {},
      "cell_type": "markdown",
      "metadata": {},
      "source": [
        "#### Show a way to break the program by creating an infinite loop"
      ]
    },
    {
      "cell_type": "code",
      "execution_count": 33,
      "metadata": {},
      "outputs": [
        {
          "ename": "",
          "evalue": "",
          "output_type": "error",
          "traceback": [
            "\u001b[1;31mCanceled future for execute_request message before replies were done"
          ]
        },
        {
          "ename": "",
          "evalue": "",
          "output_type": "error",
          "traceback": [
            "\u001b[1;31mThe Kernel crashed while executing code in the the current cell or a previous cell. Please review the code in the cell(s) to identify a possible cause of the failure. Click <a href='https://aka.ms/vscodeJupyterKernelCrash'>here</a> for more info. View Jupyter <a href='command:jupyter.viewOutput'>log</a> for further details."
          ]
        }
      ],
      "source": [
        "# Start off with defining a function!\n",
        "def add_nums_breakable(num):\n",
        "    #without a base case, we will go and crash. VSCode has built in safety\n",
        "    if num>-20000:\n",
        "        return num + add_nums_breakable(num-1)\n",
        "    else:\n",
        "add_nums_breakable(5)"
      ]
    },
    {
      "attachments": {},
      "cell_type": "markdown",
      "metadata": {
        "id": "mB6AfpzO_Mvr"
      },
      "source": [
        "#### Implementing a Base Case\n",
        "A basecase is what causes the function to break out of the infinite loop!\n",
        "It evaluates the value of the number/string at the moment it recurrs to stop it form advancing.\n",
        "\n",
        "These need to be implemented at the BEGINNING of your function, not after the recursive call."
      ]
    },
    {
      "cell_type": "code",
      "execution_count": 3,
      "metadata": {
        "id": "_Q3YQH6d_Mvr"
      },
      "outputs": [
        {
          "name": "stdout",
          "output_type": "stream",
          "text": [
            "add_nums5 = 5 + add_nums(4)\n",
            "add_nums4 = 4 + add_nums(3)\n",
            "add_nums3 = 3 + add_nums(2)\n",
            "add_nums2 = 2 + add_nums(1)\n",
            "add_nums(1) = 1\n"
          ]
        },
        {
          "data": {
            "text/plain": [
              "15"
            ]
          },
          "execution_count": 3,
          "metadata": {},
          "output_type": "execute_result"
        }
      ],
      "source": [
        "def add_nums(num):\n",
        "    #Im plement base case\n",
        "    if num <= 1:\n",
        "        print('add_nums(1) = 1')\n",
        "        return num\n",
        "    else:\n",
        "        print(f'add_nums{num} = {num} + add_nums({num-1})')\n",
        "    return num + add_nums(num-1)\n",
        "\n",
        "add_nums(5)"
      ]
    },
    {
      "attachments": {},
      "cell_type": "markdown",
      "metadata": {
        "id": "1DdB7n2q_Mvr"
      },
      "source": [
        "#### Writing a Factorial Function"
      ]
    },
    {
      "cell_type": "code",
      "execution_count": 4,
      "metadata": {
        "id": "LED-YD8u_Mvr"
      },
      "outputs": [
        {
          "name": "stdout",
          "output_type": "stream",
          "text": [
            "factorial(5) = 5 * factorial(4)\n",
            "factorial(4) = 4 * factorial(3)\n",
            "factorial(3) = 3 * factorial(2)\n",
            "factorial(2) = 2 * factorial(1)\n",
            "120\n"
          ]
        }
      ],
      "source": [
        "# 5! = 5 * 4 * 3 * 2 * 1\n",
        "def factorial(num):\n",
        "    #Base case to begin with!\n",
        "    if num <= 1:\n",
        "        return 1\n",
        "    else:\n",
        "        print(f'factorial({num}) = {num} * factorial({num - 1})')\n",
        "        return num * factorial(num-1)\n",
        "print(factorial(5))"
      ]
    },
    {
      "attachments": {},
      "cell_type": "markdown",
      "metadata": {
        "id": "gdifMekI_Mvs"
      },
      "source": [
        "#### In-Class Exercise #4 <br>\n",
        "<p>Write a recursive function that subtracts all numbers to the argument given.</p>"
      ]
    },
    {
      "cell_type": "code",
      "execution_count": 32,
      "metadata": {
        "id": "-CjqAPyA_Mvs"
      },
      "outputs": [
        {
          "name": "stdout",
          "output_type": "stream",
          "text": [
            "25 5\n",
            "24 - 4 = 20\n",
            "20 - 3 = 17\n",
            "17 - 2 = 15\n",
            "15 - 1 = 14\n"
          ]
        },
        {
          "data": {
            "text/plain": [
              "14"
            ]
          },
          "execution_count": 32,
          "metadata": {},
          "output_type": "execute_result"
        }
      ],
      "source": [
        "def sub_nums(num1, num2):\n",
        "    #Im plement base case\n",
        "    if num2 == 0:\n",
        "        return num1\n",
        "    else:\n",
        "        print(num1, num2)\n",
        "        return subtract_numbers(num1-1, num2 -1)\n",
        "    return num\n",
        "sub_nums(25,5)\n",
        "        \n",
        "\n",
        "\n"
      ]
    },
    {
      "attachments": {},
      "cell_type": "markdown",
      "metadata": {
        "id": "6JL8oSYM_Mvs"
      },
      "source": [
        "## Generators <br>\n",
        "<p>Generators are a type of iterable, like lists or tuples. They do not allow indexing, but they can still be iterated through with for loops. They are created using functions and the yield statement.</p>"
      ]
    },
    {
      "attachments": {},
      "cell_type": "markdown",
      "metadata": {
        "id": "FWfVp4Wi_Mvs"
      },
      "source": [
        "#### Yield Keyword <br>\n",
        "<p>The yield keyword denotes a generator, it doesn't return so it won't leave the function and reset all variables in the function scope, instead it yields the number back to the caller.</p>"
      ]
    },
    {
      "cell_type": "code",
      "execution_count": 36,
      "metadata": {
        "id": "JVQbI32I_Mvs"
      },
      "outputs": [
        {
          "data": {
            "text/plain": [
              "[0, 2, 4, 6, 8]"
            ]
          },
          "execution_count": 36,
          "metadata": {},
          "output_type": "execute_result"
        }
      ],
      "source": [
        "# Vanilla python generator\n",
        "#print(type(range(0,10)))\n",
        "\n",
        "def my_range(stop, start = 0, step = 2):\n",
        "    while start < stop:\n",
        "        yield start # Yield means that is going to be a generator. It will not return anything when the function is run\n",
        "        start += step\n",
        "[i for i in my_range(10)]\n"
      ]
    },
    {
      "attachments": {},
      "cell_type": "markdown",
      "metadata": {
        "id": "gybASoTd_Mvt"
      },
      "source": [
        "#### In-Class Exercise #5 <br>\n",
        "<p>Create a generator that takes a number argument and yields that number squared, then prints each number squared until zero is reached.</p>"
      ]
    },
    {
      "cell_type": "code",
      "execution_count": 39,
      "metadata": {
        "id": "VlLNzwSO_Mvt"
      },
      "outputs": [
        {
          "data": {
            "text/plain": [
              "[25, 16, 9, 4, 1]"
            ]
          },
          "execution_count": 39,
          "metadata": {},
          "output_type": "execute_result"
        }
      ],
      "source": [
        "# Generators package up the values and yield them as opposed to returning them.\n",
        "# then we can iterate through that generator object to return each value package\n",
        "# inside of it\n",
        "def squared_nums(num):\n",
        "    while num > 0:\n",
        "        yield num **2\n",
        "        num -= 1\n",
        "[i for i in squared_nums(5)]"
      ]
    },
    {
      "attachments": {},
      "cell_type": "markdown",
      "metadata": {
        "id": "99N2jCkG_Mvt"
      },
      "source": [
        "# Exercises"
      ]
    },
    {
      "attachments": {},
      "cell_type": "markdown",
      "metadata": {
        "id": "ozx5y6j2_Mvt"
      },
      "source": [
        "### Exercise #1 <br>\n",
        "<p>Filter out all of the empty strings from the list below</p>\n",
        "\n",
        "`Output: ['Argentina', 'San Diego', 'Boston', 'New York']`"
      ]
    },
    {
      "cell_type": "code",
      "execution_count": 63,
      "metadata": {
        "id": "mJ7BY64n_Mvt"
      },
      "outputs": [
        {
          "data": {
            "text/plain": [
              "['Argentina', 'San Diego', 'Boston', 'New York']"
            ]
          },
          "execution_count": 63,
          "metadata": {},
          "output_type": "execute_result"
        }
      ],
      "source": [
        "# Use the .filter() \n",
        "places = [\" \",\"Argentina\", \" \", \"San Diego\",\"\",\"  \",\"\",\"Boston\",\"New York\"]\n",
        "list(filter(str.strip, places))\n"
      ]
    },
    {
      "attachments": {},
      "cell_type": "markdown",
      "metadata": {
        "id": "DrAfmmXo_Mvu"
      },
      "source": [
        "### Exercise #2 <br>\n",
        "<p>Write an anonymous function that sorts this list by the last name...<br><b>Hint: Use the \".sort()\" method and access the key\"</b></p>\n",
        "\n",
        "`Output: ['Victor aNisimov', 'Gary A.J. Bernstein', 'Joel Carter', 'Andrew P. Garfield', 'David hassELHOFF']`"
      ]
    },
    {
      "cell_type": "code",
      "execution_count": 68,
      "metadata": {
        "id": "Pw5O-x_N_Mvu"
      },
      "outputs": [
        {
          "name": "stdout",
          "output_type": "stream",
          "text": [
            "['Victor aNisimov', 'Gary A.J. Bernstein', 'Joel Carter', 'Andrew P. Garfield', 'David hassELHOFF']\n"
          ]
        }
      ],
      "source": [
        "# use lambda function\n",
        "author = [\"Joel Carter\", \"Victor aNisimov\", \"Andrew P. Garfield\",\"David hassELHOFF\",\"Gary A.J. Bernstein\"]\n",
        "\n",
        "author.sort(key=lambda name: name.split()[-1].lower())\n",
        "print(author)\n"
      ]
    },
    {
      "attachments": {},
      "cell_type": "markdown",
      "metadata": {
        "id": "M_fIpVQg_Mvu"
      },
      "source": [
        "### Exercise #3 <br>\n",
        "<p>Convert the list below from Celsius to Farhenheit, using the map function with a lambda...</p>\n",
        "\n",
        "`Output: [('Nashua', 89.6), ('Boston', 53.6), ('Los Angelos', 111.2), ('Miami', 84.2)]v\n",
        "`"
      ]
    },
    {
      "cell_type": "code",
      "execution_count": 69,
      "metadata": {
        "id": "8Ro4CSOD_Mvu"
      },
      "outputs": [
        {
          "name": "stdout",
          "output_type": "stream",
          "text": [
            "[('Nashua', 89.6), ('Boston', 53.6), ('Los Angelos', 111.2), ('Miami', 84.2)]\n"
          ]
        }
      ],
      "source": [
        "# F = (9/5)*C + 32\n",
        "#using the map function with with lambda\n",
        "places = [('Nashua',32),(\"Boston\",12),(\"Los Angelos\",44),(\"Miami\",29)]\n",
        "\n",
        "# Using map() with lambda to apply conversion\n",
        "places_F = list(map(lambda place: (place[0], ((9/5)*place[1]) + 32), places))\n",
        "\n",
        "print(places_F)\n",
        "\n"
      ]
    },
    {
      "attachments": {},
      "cell_type": "markdown",
      "metadata": {
        "id": "uoQyjMFz_Mvv"
      },
      "source": [
        "### Exercise #4 <br>\n",
        "<p>Write a recursion function to perform the fibonacci sequence up to the number passed in.</p>\n",
        "\n",
        "`Output for fib(5) => \n",
        "Iteration 0: 1\n",
        "Iteration 1: 1\n",
        "Iteration 2: 2\n",
        "Iteration 3: 3\n",
        "Iteration 4: 5\n",
        "Iteration 5: 8`"
      ]
    },
    {
      "cell_type": "code",
      "execution_count": null,
      "metadata": {
        "id": "4WlF3yVZ_Mvv",
        "scrolled": true
      },
      "outputs": [],
      "source": []
    }
  ],
  "metadata": {
    "colab": {
      "provenance": []
    },
    "kernelspec": {
      "display_name": "Python 3",
      "language": "python",
      "name": "python3"
    },
    "language_info": {
      "codemirror_mode": {
        "name": "ipython",
        "version": 3
      },
      "file_extension": ".py",
      "mimetype": "text/x-python",
      "name": "python",
      "nbconvert_exporter": "python",
      "pygments_lexer": "ipython3",
      "version": "3.10.11"
    },
    "vscode": {
      "interpreter": {
        "hash": "26de051ba29f2982a8de78e945f0abaf191376122a1563185a90213a26c5da77"
      }
    }
  },
  "nbformat": 4,
  "nbformat_minor": 0
}
