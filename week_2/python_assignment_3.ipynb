{
 "cells": [
  {
   "attachments": {},
   "cell_type": "markdown",
   "metadata": {},
   "source": [
    "# Coding Temple's Data Analytics Program\n",
    "---\n",
    "## Python Basics Assignment 3\n",
    "---"
   ]
  },
  {
   "attachments": {},
   "cell_type": "markdown",
   "metadata": {},
   "source": [
    "### **Task 1: Build a Shopping Cart**\n",
    "**You can use either lists or dictionaries. The program should have the following capabilites:**\n",
    "* Takes a string as an input\n",
    "* Stores user input in a dictionary or list\n",
    "* Users should be able to:\n",
    "    * Add Items\n",
    "    * Delete Items\n",
    "    * See current shopping cart\n",
    "* The program should loop until user 'quits'\n",
    "* Upon quitting the program, print out all items in the user's list"
   ]
  },
  {
   "cell_type": "code",
   "execution_count": 6,
   "metadata": {},
   "outputs": [
    {
     "name": "stdout",
     "output_type": "stream",
     "text": [
      "The Shopping Cart has donuts because they are yummy\n",
      "The Shopping Cart has ice cream because i got diabetes\n"
     ]
    }
   ],
   "source": [
    "from IPython.display import clear_output\n",
    "\n",
    "# Ask the user 5 bits of input: Do you want to : Show/Add/Delete/clear or Quit?\n",
    "\n",
    "# Create a function\n",
    "def shopping_cart():\n",
    "    # Create dictionary\n",
    "    sc = {}\n",
    "    # Create a loop\n",
    "    while True:\n",
    "        # Ask for info\n",
    "        question = input(\"Show/Add/Delete/Clear or type 'quit' \")\n",
    "            # Check if the user types SHOW\n",
    "        if question.lower() == 'show':\n",
    "            for key,value in sc.items():\n",
    "                print(f\"The Shopping Cart has {key} because {value}\")\n",
    "            # Check if the user types ADD\n",
    "        if question.lower() == 'add':\n",
    "            item = input(\"What would you like to add? \")\n",
    "            reason = input(\"Why are you adding? \")\n",
    "            sc[item.lower()] = reason.lower()\n",
    "            # Check if the user types DELETE\n",
    "        if question.lower() == 'delete':\n",
    "            item = input(\"What would you like to delete? \")\n",
    "            del sc[item.lower()]\n",
    "            # Check if the user types CLEAR\n",
    "        if question.lower() == 'clear':\n",
    "            clear_que = input(\"Are you sure about clearing Cart? Y/N?\")\n",
    "            if clear_que.lower() == 'y':\n",
    "                sc.clear()\n",
    "            # Check if the user types QUIT\n",
    "        if question.lower() == 'quit':\n",
    "            # Print out information\n",
    "            for key,value in sc.items():\n",
    "                print(f\"The Shopping Cart has {key} because {value}\")\n",
    "            # Break loop\n",
    "            break\n",
    "shopping_cart()\n"
   ]
  },
  {
   "attachments": {},
   "cell_type": "markdown",
   "metadata": {},
   "source": [
    "### **Task 2: Create a Module and Import it**\n",
    "Create a Module in VS Code and import it into a Jupyter Notebook. \n",
    "\n",
    "**Your module should have the following capabilities:**\n",
    "* Has a function to calculate the square footage of a house\n",
    "* Has a function to calculate the circumference of a circle\n",
    "* Has a function to change feet to inches\n",
    "\n",
    "The program in Jupyter Notebook should take in user input and use the imported functions for their calculations!"
   ]
  },
  {
   "cell_type": "code",
   "execution_count": 1,
   "metadata": {},
   "outputs": [
    {
     "name": "stdout",
     "output_type": "stream",
     "text": [
      "{1, 2, 3, 4}\n"
     ]
    }
   ],
   "source": [
    "import python_assignment_3_module as p\n",
    "\n",
    "print(p.cheese)"
   ]
  },
  {
   "attachments": {},
   "cell_type": "markdown",
   "metadata": {},
   "source": [
    "### **Task 3.1: Lists**\n",
    "Create 4 lists. Two of these lists should be keys, two of these lists should be values"
   ]
  },
  {
   "cell_type": "code",
   "execution_count": 2,
   "metadata": {},
   "outputs": [],
   "source": [
    "lst1 = ['1', '2', '3', '4,']\n",
    "lst2 = ['Tokyo', 'Osaka', 'Sapporo', 'Okinawa']\n",
    "lst3 = ['30', '40', '50', '60']\n",
    "lst4 = ['Ice Cream', 'Donuts', 'Mochi', 'Cookies']\n"
   ]
  },
  {
   "attachments": {},
   "cell_type": "markdown",
   "metadata": {},
   "source": [
    "### **Task 3.2: Create a function that converts two lists into a dictionary, then merges two dictionaries into one.**\n",
    "\n",
    "Using your 4 lists, create a function which combines the keys lists with the values lists into a dictionary, then merges and returns the two dictionaries together."
   ]
  },
  {
   "cell_type": "code",
   "execution_count": 22,
   "metadata": {},
   "outputs": [
    {
     "name": "stdout",
     "output_type": "stream",
     "text": [
      "{'1': 'Tokyo', '2': 'Osaka', '3': 'Sapporo', '4,': 'Okinawa', 'Ice Cream': '30', 'Donuts': '40', 'Mochi': '50', 'Cookies': '60'}\n"
     ]
    }
   ],
   "source": [
    "dict_1 = {}\n",
    "dict_2 = {}\n",
    "\n",
    "def combined_dict(keys1, values1, keys2, values2):\n",
    "    # Combine lists into dictionaries\n",
    "    dict_1 = {keys1[i]: values1[i] for i in range(len(keys1))}\n",
    "    dict_2 = {keys2[i]: values2[i] for i in range(len(keys2))}\n",
    "    \n",
    "    # Merge two dictionaries\n",
    "    dict_1.update(dict_2)\n",
    "    return dict_1\n",
    "\n",
    "dict_3 = combined_dict(lst1, lst2, lst3, lst4)\n",
    "print(dict_3)"
   ]
  }
 ],
 "metadata": {
  "kernelspec": {
   "display_name": "Python 3",
   "language": "python",
   "name": "python3"
  },
  "language_info": {
   "codemirror_mode": {
    "name": "ipython",
    "version": 3
   },
   "file_extension": ".py",
   "mimetype": "text/x-python",
   "name": "python",
   "nbconvert_exporter": "python",
   "pygments_lexer": "ipython3",
   "version": "3.10.11"
  },
  "orig_nbformat": 4,
  "vscode": {
   "interpreter": {
    "hash": "26de051ba29f2982a8de78e945f0abaf191376122a1563185a90213a26c5da77"
   }
  }
 },
 "nbformat": 4,
 "nbformat_minor": 2
}
