{
 "cells": [
  {
   "cell_type": "code",
   "execution_count": 4,
   "metadata": {},
   "outputs": [],
   "source": [
    "class ParkingGarage:\n",
    "    # Created an initialization of the class and attributes associated tickets, parking_spaces_current_tickets\n",
    "    def __init__(self, total_tickets, total_spaces):\n",
    "        self.tickets = list(range(1, total_tickets+1))\n",
    "        self.parking_spaces = list(range(1, total_spaces+1))\n",
    "        self.current_ticket = {}\n",
    "\n",
    "    # Now we can create methods (take_ticket, pay_for_parking, leave_garage)\n",
    "    def take_ticket(self):\n",
    "        '''\n",
    "        Will decrease tickets and parking spaces by -1\n",
    "        '''\n",
    "        if self.tickets:\n",
    "            current_ticket = self.tickets.pop(0)\n",
    "            self.current_ticket[current_ticket] = False\n",
    "            print(f\"Your ticket number is {current_ticket}\")\n",
    "        else:\n",
    "            print(\"Parking Full\")\n",
    "\n",
    "    def pay_for_parking(self):\n",
    "        '''\n",
    "         Allows user to pay for parking ticket, and prompt message after paying\n",
    "        '''\n",
    "        ticket_to_pay = int(input(\"Enter your ticket number to pay: \"))\n",
    "        if ticket_to_pay in self.current_ticket:\n",
    "            print(\"Your ticket has been paid. You have 15 minutes to leave.\")\n",
    "            self.current_ticket[ticket_to_pay] = True\n",
    "        else:\n",
    "            print(\"Invalid ticket number.\")\n",
    "\n",
    "    def leave_garage(self):\n",
    "        '''\n",
    "        Leave garage, check ticket to pay and will automatically move customer to pay\n",
    "        '''\n",
    "        ticket_to_leave = int(input(\"Enter your ticket number to leave: \"))\n",
    "        if self.current_ticket.get(ticket_to_leave):\n",
    "            self.parking_spaces.insert(0, ticket_to_leave)\n",
    "            self.tickets.insert(0, ticket_to_leave)\n",
    "            del self.current_ticket[ticket_to_leave]\n",
    "            print(\"Thank You, have a nice day.\")\n",
    "        else:\n",
    "            print(\"Please pay before leaving.\")\n",
    "            self.pay_for_parking()"
   ]
  },
  {
   "cell_type": "code",
   "execution_count": 5,
   "metadata": {},
   "outputs": [
    {
     "name": "stdout",
     "output_type": "stream",
     "text": [
      "Your ticket number is 1\n",
      "Please pay before leaving.\n",
      "Your ticket has been paid. You have 15 minutes to leave.\n",
      "Thank You, have a nice day.\n"
     ]
    }
   ],
   "source": [
    "# The parking garage has 5 tickets and 5 parking spots\n",
    "parking_lot = ParkingGarage(5, 5)\n",
    "\n",
    "def run():\n",
    "    while True:\n",
    "        response = input(\"What would you like to do today? Take? Pay? Leave?\")\n",
    "        if response.lower() == 'leave':\n",
    "            parking_lot.leave_garage()\n",
    "        elif response.lower() == 'take':\n",
    "            parking_lot.take_ticket()\n",
    "        elif response.lower() == 'pay':\n",
    "            parking_lot.pay_for_parking()\n",
    "        elif response.lower() == 'quit':\n",
    "            break\n",
    "run()"
   ]
  }
 ],
 "metadata": {
  "kernelspec": {
   "display_name": "Python 3",
   "language": "python",
   "name": "python3"
  },
  "language_info": {
   "codemirror_mode": {
    "name": "ipython",
    "version": 3
   },
   "file_extension": ".py",
   "mimetype": "text/x-python",
   "name": "python",
   "nbconvert_exporter": "python",
   "pygments_lexer": "ipython3",
   "version": "3.10.11"
  },
  "orig_nbformat": 4
 },
 "nbformat": 4,
 "nbformat_minor": 2
}
